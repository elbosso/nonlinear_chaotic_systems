{
 "cells": [
  {
   "cell_type": "markdown",
   "metadata": {},
   "source": [
    "inspired by https://github.com/jupyter-widgets/ipywidgets/blob/master/docs/source/examples/Lorenz%20Differential%20Equations.ipynb and others\n",
    "# Exploring the Bouali System (3) of Differential Equations\n",
    "## Overview"
   ]
  },
  {
   "cell_type": "markdown",
   "metadata": {},
   "source": [
    "In this Notebook we explore the Bouali system (2) of differential equations:\n",
    "\n",
    "$$\n",
    "\\begin{aligned}\n",
    "\\dot{x} & = \\alpha x(1-y)-\\beta z \\\\\n",
    "\\dot{y} & = -\\gamma y(1-x^2) \\\\\n",
    "\\dot{z} & = \\mu x\n",
    "\\end{aligned}\n",
    "$$\n",
    "\n",
    "This is one of the classic systems in non-linear differential equations. It exhibits a range of different behaviors as the parameters (\\\\(\\alpha\\\\), \\\\(\\beta\\\\), \\\\(\\gamma\\\\), \\\\(\\mu\\\\)) are varied."
   ]
  },
  {
   "cell_type": "markdown",
   "metadata": {},
   "source": [
    "## Imports"
   ]
  },
  {
   "cell_type": "markdown",
   "metadata": {},
   "source": [
    "First, we import the needed things from IPython, NumPy, Matplotlib and SciPy. "
   ]
  },
  {
   "cell_type": "code",
   "execution_count": null,
   "metadata": {},
   "outputs": [],
   "source": [
    "%matplotlib inline"
   ]
  },
  {
   "cell_type": "code",
   "execution_count": null,
   "metadata": {},
   "outputs": [],
   "source": [
    "from ipywidgets import interact, interactive, HBox, Layout,VBox\n",
    "from IPython.display import clear_output, display, HTML"
   ]
  },
  {
   "cell_type": "markdown",
   "metadata": {},
   "source": [
    "## Computing the trajectories and plotting the result"
   ]
  },
  {
   "cell_type": "markdown",
   "metadata": {},
   "source": [
    "We define a function that can integrate the differential equations numerically and then plot the solutions. This function has arguments that control the parameters of the differential equation (\\\\(\\alpha\\\\), \\\\(\\beta\\\\), \\\\(\\gamma\\\\), \\\\(\\mu\\\\)), the numerical integration (`max_time`), the number of trajectories to be followed (`N`) and the visualization (`xangle`, `yangle`). An additional import ist made to gain access to the method doing the actual calculation and plotting. It is encapsulated in its very own python script:"
   ]
  },
  {
   "cell_type": "code",
   "execution_count": null,
   "metadata": {},
   "outputs": [],
   "source": [
    "from boualiSystem3 import solve_bouali"
   ]
  },
  {
   "cell_type": "markdown",
   "metadata": {},
   "source": [
    "Let's call the function once to view the solutions. For this set of parameters, we see the trajectories swirling around two points, called attractors. "
   ]
  },
  {
   "cell_type": "code",
   "execution_count": null,
   "metadata": {},
   "outputs": [],
   "source": [
    "t, x_t = solve_bouali(anglex=0, angley=30, numberOfTrajectories=10)"
   ]
  },
  {
   "cell_type": "markdown",
   "metadata": {},
   "source": [
    "Now, lets calculate the minima and maxima of the coordinates in \\\\(x\\\\), \\\\(y\\\\), and \\\\(z\\\\):\n"
   ]
  },
  {
   "cell_type": "code",
   "execution_count": null,
   "metadata": {
    "jupyter": {
     "source_hidden": true
    }
   },
   "outputs": [],
   "source": [
    "mins={\"x\":[],\"y\":[],\"z\":[]}\n",
    "maxs={\"x\":[],\"y\":[],\"z\":[]}\n",
    "for i in range(len(x_t)):\n",
    "    x, y, z = x_t[i,:,:].T\n",
    "    mins[\"x\"]+=[min(x)]\n",
    "    maxs[\"x\"]+=[max(x)]\n",
    "    mins[\"y\"]+=[min(y)]\n",
    "    maxs[\"y\"]+=[max(y)]\n",
    "    mins[\"z\"]+=[min(z)]\n",
    "    maxs[\"z\"]+=[max(z)]\n",
    "print(str(min(mins[\"x\"]))+\" <= x <= \"+str(max(maxs[\"x\"])))\n",
    "print(str(min(mins[\"y\"]))+\" <= y <= \"+str(max(maxs[\"y\"])))\n",
    "print(str(min(mins[\"z\"]))+\" <= z <= \"+str(max(maxs[\"z\"])))\n"
   ]
  },
  {
   "cell_type": "markdown",
   "metadata": {},
   "source": [
    "## Playing around with it..."
   ]
  },
  {
   "cell_type": "markdown",
   "metadata": {},
   "source": [
    "Using IPython's `interactive` function, we can explore how the trajectories behave as we change the various parameters. The nuts and bolts of laying out the widgets and components are again encapsulated in a separate python script providing the function `layoutWidgets`."
   ]
  },
  {
   "cell_type": "code",
   "execution_count": null,
   "metadata": {},
   "outputs": [],
   "source": [
    "from layoutWidgets import layout\n",
    "\n",
    "w = interactive(solve_bouali, min_x0=(-20.,20.), max_x0=(-20.,20.), anglex=(0.,360.), angley=(0.,360.), max_time=(0.1, 1140.0), \n",
    "                numberOfTrajectories=(1,50), alpha=(0.0,50.0), beta=(0.0,50.0),gamma=(-10,10),mu=(-10,10))\n",
    "\n",
    "layout(w)"
   ]
  },
  {
   "cell_type": "code",
   "execution_count": null,
   "metadata": {},
   "outputs": [],
   "source": []
  }
 ],
 "metadata": {
  "kernelspec": {
   "display_name": "Python 3",
   "language": "python",
   "name": "python3"
  },
  "language_info": {
   "codemirror_mode": {
    "name": "ipython",
    "version": 3
   },
   "file_extension": ".py",
   "mimetype": "text/x-python",
   "name": "python",
   "nbconvert_exporter": "python",
   "pygments_lexer": "ipython3",
   "version": "3.7.3"
  }
 },
 "nbformat": 4,
 "nbformat_minor": 4
}
